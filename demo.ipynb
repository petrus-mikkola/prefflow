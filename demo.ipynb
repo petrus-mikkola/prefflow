{
 "cells": [
  {
   "cell_type": "markdown",
   "metadata": {},
   "source": [
    "#### Imports ####"
   ]
  },
  {
   "cell_type": "code",
   "execution_count": null,
   "metadata": {},
   "outputs": [],
   "source": [
    "import os\n",
    "import torch\n",
    "import numpy as np\n",
    "import normflows as nf\n",
    "import hydra\n",
    "import matplotlib\n",
    "from matplotlib import pyplot as plt\n",
    "from tqdm import tqdm\n",
    "\n",
    "from flows import RealNVP, NeuralSplineFlow\n",
    "from prefflow import PrefFlow\n",
    "from plotter import Plotter\n",
    "from target import set_up_problem\n",
    "from misc import convert_to_ranking"
   ]
  },
  {
   "cell_type": "markdown",
   "metadata": {},
   "source": [
    "#### Load config file to set-up experiment and algorithm details ####"
   ]
  },
  {
   "cell_type": "code",
   "execution_count": null,
   "metadata": {},
   "outputs": [],
   "source": [
    "with hydra.initialize(version_base=None, config_path=\"conf\"):\n",
    "   os.chdir(os.getcwd())\n",
    "   output_folder = os.path.join(os.getcwd(), 'temporary_outputs')\n",
    "   cfg = hydra.compose(config_name=\"config.yaml\",overrides=[\"+db=mysql\"])\n",
    "if not cfg.plot.showduringtraining: # Show plots?\n",
    "    matplotlib.use('Agg') "
   ]
  },
  {
   "cell_type": "markdown",
   "metadata": {},
   "source": [
    "#### Device and Precision ####"
   ]
  },
  {
   "cell_type": "code",
   "execution_count": null,
   "metadata": {},
   "outputs": [],
   "source": [
    "torch.set_default_dtype(torch.float64 if cfg.device.precision_double else torch.float32)\n",
    "device = torch.device(cfg.device.device)"
   ]
  },
  {
   "cell_type": "markdown",
   "metadata": {},
   "source": [
    "#### Random seeds ####"
   ]
  },
  {
   "cell_type": "code",
   "execution_count": null,
   "metadata": {},
   "outputs": [],
   "source": [
    "import random\n",
    "torch.manual_seed(cfg.exp.seed)\n",
    "np.random.seed(cfg.exp.seed)\n",
    "random.seed(cfg.exp.seed)"
   ]
  },
  {
   "cell_type": "markdown",
   "metadata": {},
   "source": [
    "  #### Target belief density ####"
   ]
  },
  {
   "cell_type": "code",
   "execution_count": null,
   "metadata": {},
   "outputs": [],
   "source": [
    "target_name = 'onemoon'\n",
    "D = 2\n",
    "target, bounds, uniform, D, normalize = set_up_problem(target_name,D)"
   ]
  },
  {
   "cell_type": "markdown",
   "metadata": {},
   "source": [
    "#### Base distribution and Flow architecture ####"
   ]
  },
  {
   "cell_type": "code",
   "execution_count": null,
   "metadata": {},
   "outputs": [],
   "source": [
    "q0 = nf.distributions.DiagGaussian(D, trainable=False)\n",
    "nflows = cfg.params.nflows\n",
    "if cfg.params.flow == \"realnvp\":\n",
    "    nfm = RealNVP(nflows,D,q0,device,cfg.device.precision_double)\n",
    "if cfg.params.flow == \"neuralsplineflow\":\n",
    "    nfm = NeuralSplineFlow(nflows,D,q0,device,cfg.device.precision_double)"
   ]
  },
  {
   "cell_type": "markdown",
   "metadata": {},
   "source": [
    "#### Data generation 1/2 ####"
   ]
  },
  {
   "cell_type": "code",
   "execution_count": null,
   "metadata": {},
   "outputs": [],
   "source": [
    "target_sample = target.sample(10000)\n",
    "target_mean = target_sample.mean(dim=0).double()\n",
    "target_std = target_sample.std(dim=0).double()\n",
    "def sample_alternatives(n,k=2,distribution=\"uniform\"):\n",
    "        if distribution==\"uniform\":\n",
    "            return uniform.sample(torch.tensor([k*n])).to(device)\n",
    "        elif distribution==\"target\":\n",
    "            return target.sample(k*n).to(device)\n",
    "        elif distribution==\"mixture_uniform_gaussian\":\n",
    "            target_gaussian = torch.distributions.MultivariateNormal(target_mean, target_std*torch.eye(D))\n",
    "            howoftentarget = cfg.exp.mixture_success_prob\n",
    "            samples = []  \n",
    "            for _ in range(k):\n",
    "                if np.random.sample() <= howoftentarget:\n",
    "                    x = target_gaussian.sample((n,))\n",
    "                else:\n",
    "                    x = uniform.sample(torch.tensor([n])).to(device)\n",
    "                samples.append(x)\n",
    "            return torch.cat(samples, dim=0)\n",
    "def expert_feedback_pairwise(comp,s=None):\n",
    "    noise = (0,0) if (s is None) else torch.distributions.Exponential(s).sample((2,)).to(device)\n",
    "    logprobs = target.log_prob(comp).to(device)\n",
    "    return torch.ge(logprobs[0] + noise[0],logprobs[1] + noise[1]).long().view(1).to(device)\n",
    "def expert_feedback_ranking(alternatives,s=None):\n",
    "    k = alternatives.shape[0]\n",
    "    noise = torch.distributions.Exponential(s).sample((k,)).to(device)\n",
    "    logprobs = target.log_prob(alternatives).to(device) + noise\n",
    "    _, ranking_inds = torch.sort(logprobs, descending=True)\n",
    "    return ranking_inds.view(k).to(device)\n",
    "def generate_dataset(N,s=None,distribution=\"uniform\"):\n",
    "    X = sample_alternatives(1,2,distribution)\n",
    "    Y = expert_feedback_pairwise(X,s)\n",
    "    X = X.unsqueeze(2) #add new dimension, which indicates sample index\n",
    "    if N > 1:\n",
    "        for i in range(0,N-1):\n",
    "            comp = sample_alternatives(1,2,distribution)\n",
    "            X = torch.cat((X,comp.unsqueeze(2)),2)\n",
    "            Y = torch.cat((Y,expert_feedback_pairwise(comp,s)),0)\n",
    "    return X,Y #X.shape = (2,D,N) = (comp,space dimensions, number of comps)\n",
    "def generate_dataset_ranking(N,k,s=None,distribution=\"uniform\"):\n",
    "    X = sample_alternatives(1,k,distribution)\n",
    "    Y = expert_feedback_ranking(X,s).view(1,k)\n",
    "    X = X.unsqueeze(2) #add new dimension, which indicates sample index\n",
    "    if N > 1:\n",
    "        for i in range(0,N-1):\n",
    "            alternatives = sample_alternatives(1,k,distribution)\n",
    "            X = torch.cat((X,alternatives.unsqueeze(2)),2)\n",
    "            Y = torch.cat((Y,expert_feedback_ranking(alternatives,s).view(1,k)),0)\n",
    "    Xdata = convert_to_ranking(X.numpy(),Y.numpy())\n",
    "    #return X,Y #X.shape = (k,D,N) = (alternatives,space dimensions, number of rankings)\n",
    "    return torch.from_numpy(Xdata).view(k,-1,N) "
   ]
  },
  {
   "cell_type": "markdown",
   "metadata": {},
   "source": [
    "#### Data generation 2/2 ####"
   ]
  },
  {
   "cell_type": "code",
   "execution_count": null,
   "metadata": {},
   "outputs": [],
   "source": [
    "n = cfg.data.n\n",
    "true_s = cfg.exp.true_s\n",
    "ranking = True if cfg.data.k > 2 else False\n",
    "if ranking:\n",
    "    k = cfg.data.k\n",
    "    dataset = generate_dataset_ranking(N=n,k=k,s=true_s,distribution=cfg.exp.lambda_dist)\n",
    "else:\n",
    "    dataset = generate_dataset(N=n,s=true_s,distribution=cfg.exp.lambda_dist)\n",
    "        \n",
    "def minibatch(dataset,batch_size,ranking):\n",
    "    indices = torch.randperm(n)[:batch_size]\n",
    "    batch = (dataset[0][:,:,indices],dataset[1][indices]) if not ranking else dataset[:,:,indices]\n",
    "    return batch"
   ]
  },
  {
   "cell_type": "markdown",
   "metadata": {},
   "source": [
    "  #### Initialize preferential flow ####"
   ]
  },
  {
   "cell_type": "code",
   "execution_count": null,
   "metadata": {},
   "outputs": [],
   "source": [
    "prefflow = PrefFlow(nfm,D=D,s=cfg.modelparams.s,ranking=ranking,device=device,precision_double=cfg.device.precision_double)"
   ]
  },
  {
   "cell_type": "markdown",
   "metadata": {},
   "source": [
    "#### Initialize optimizer ####"
   ]
  },
  {
   "cell_type": "code",
   "execution_count": null,
   "metadata": {},
   "outputs": [],
   "source": [
    "loss_hist = np.array([])\n",
    "batch_size = cfg.params.batch_size\n",
    "optimizer = getattr(torch.optim, cfg.params.optimizer.capitalize())\n",
    "optimizer_prefflow = optimizer([{'params':prefflow.parameters()}],lr=cfg.params.lr, weight_decay=cfg.params.weight_decay)"
   ]
  },
  {
   "cell_type": "markdown",
   "metadata": {},
   "source": [
    "#### Initialize plotter ####"
   ]
  },
  {
   "cell_type": "code",
   "execution_count": null,
   "metadata": {},
   "outputs": [],
   "source": [
    "plotter = Plotter(D,bounds)"
   ]
  },
  {
   "cell_type": "markdown",
   "metadata": {},
   "source": [
    "### SGD FS-MAP ###"
   ]
  },
  {
   "cell_type": "code",
   "execution_count": null,
   "metadata": {},
   "outputs": [],
   "source": [
    "for it in tqdm(range(cfg.params.max_iter),disable=not cfg.plot.progressbar_show):\n",
    "    \n",
    "    #Sample minibacth\n",
    "    batch = minibatch(dataset,batch_size,ranking)\n",
    "\n",
    "    #Update flow parameters\n",
    "    prefflow.train()\n",
    "    optimizer_prefflow.zero_grad()\n",
    "    loss = -prefflow.logposterior(batch,cfg.modelparams.weightprior)\n",
    "    if ~(torch.isnan(loss) | torch.isinf(loss)):\n",
    "        loss.backward()\n",
    "        optimizer_prefflow.step()\n",
    "    loss_hist = np.append(loss_hist, loss.to('cpu').detach().numpy())\n",
    "\n",
    "    # Plot learned density\n",
    "    if (it + 1) % cfg.plot.show_iter == 0:\n",
    "        print(\"loss: \" + str(loss.to('cpu').detach().numpy()))\n",
    "        if cfg.plot.showdatapoints:\n",
    "            showdata = minibatch(dataset,batch_size=n,ranking=ranking)\n",
    "            probmassinarea = plotter.plot_moon(target,prefflow,data=showdata,cfg=cfg)\n",
    "        else:\n",
    "            probmassinarea = plotter.plot_moon(target,prefflow,data=None,cfg=cfg)\n",
    "        plt.show()"
   ]
  },
  {
   "cell_type": "markdown",
   "metadata": {},
   "source": [
    "#### Plot loss trajectory ####"
   ]
  },
  {
   "cell_type": "code",
   "execution_count": null,
   "metadata": {},
   "outputs": [],
   "source": [
    "plt.figure(figsize=(15, 15))\n",
    "plt.plot(loss_hist, label='loss')\n",
    "plt.legend()\n",
    "plt.show()"
   ]
  }
 ],
 "metadata": {
  "kernelspec": {
   "display_name": "normalizingflows",
   "language": "python",
   "name": "python3"
  },
  "language_info": {
   "codemirror_mode": {
    "name": "ipython",
    "version": 3
   },
   "file_extension": ".py",
   "mimetype": "text/x-python",
   "name": "python",
   "nbconvert_exporter": "python",
   "pygments_lexer": "ipython3",
   "version": "3.11.5"
  },
  "orig_nbformat": 4
 },
 "nbformat": 4,
 "nbformat_minor": 2
}
